Data Science Tools and Ecosystem
In this notebook, Data Science Tools and Ecosystem are summarized.

Some of the popular languages that Data Scientists use are:

python
SQL
R
Some of the commonly used libraries used by Data Scientists include:

TensorFlow.
SciPy.
NumPy.
Pandas.
Pytorch
Data Science Tools |Data Science Tools| |-| |Jupyter Notebook| |RStudio| |Apache Spark|

Below are a few examples of evaluating arithmetic expressions in Python.
# This a simple arithmetic expression to mutiply then add integers
eval = (3*4)+5
print(eval)
print(eval==17)
17
True
# This will convert 200 minutes to hours by diving by 60
print(200 / 6)
33.333333333333336
Objectives: List popular languages for Data Science.

Python
SQL
R
Author
name : Robert Jaleon Alvin Baskervill 
